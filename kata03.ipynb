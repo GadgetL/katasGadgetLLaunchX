{
 "cells": [
  {
   "cell_type": "markdown",
   "metadata": {},
   "source": [
    "## Kata 03"
   ]
  },
  {
   "cell_type": "code",
   "execution_count": 1,
   "metadata": {},
   "outputs": [],
   "source": [
    "# Tip de práctica 1: Intenta ejecutarlo en un notebook.\n",
    "a = 97\n",
    "b = 55\n",
    "# test expression / expresión de prueba\n",
    "if a < b:\n",
    "    # statement to be run / instrucción a ejecutar\n",
    "    print(b)"
   ]
  },
  {
   "cell_type": "code",
   "execution_count": 2,
   "metadata": {},
   "outputs": [
    {
     "name": "stdout",
     "output_type": "stream",
     "text": [
      "93\n"
     ]
    }
   ],
   "source": [
    "# Aplica el tip de práctica 1.\n",
    "a = 93\n",
    "b = 27\n",
    "if a >= b:\n",
    "    print(a)"
   ]
  },
  {
   "cell_type": "code",
   "execution_count": 3,
   "metadata": {},
   "outputs": [
    {
     "name": "stdout",
     "output_type": "stream",
     "text": [
      "44\n"
     ]
    }
   ],
   "source": [
    "#consejos de 1 y 2\n",
    "a = 24\n",
    "b = 44\n",
    "if a <= 0:\n",
    "    print(a)\n",
    "print(b)"
   ]
  },
  {
   "cell_type": "markdown",
   "metadata": {},
   "source": [
    "Programa  que advierte si un asteroide se acerca a la Tierra demasiado rápido. La velocidad del asteroide varía dependiendo de lo cerca que esté del sol, y cualquier velocidad superior a 25 kilómetros por segundo (km/s) merece una advertencia.\n",
    "\n",
    "v.1.0"
   ]
  },
  {
   "cell_type": "markdown",
   "metadata": {},
   "source": [
    "Un asteroide se acerca, y viaja a una velocidad de 49 km/s."
   ]
  },
  {
   "cell_type": "code",
   "execution_count": 5,
   "metadata": {},
   "outputs": [
    {
     "name": "stdout",
     "output_type": "stream",
     "text": [
      "Un asteroide se está acercando rapidamente!\n"
     ]
    }
   ],
   "source": [
    "# Añadir el código necesario para crear una variable que guarde la velocidad del asteroide.\n",
    "# Escribe una expresión de prueba para calcular si necesita una advertencia.\n",
    "# Agregue las instrucciones que se ejecutarán si la expresión de prueba es true o false.\n",
    "\n",
    "asteroidSpeed = 49 #k/s\n",
    "\n",
    "if(asteroidSpeed > 25):\n",
    "    print(\"Un asteroide se está acercando rapidamente! Cuidado!\")\n",
    "else:\n",
    "    print(\"La Tierra está a salvo :)\")"
   ]
  },
  {
   "cell_type": "markdown",
   "metadata": {},
   "source": [
    "v.1.1"
   ]
  },
  {
   "cell_type": "code",
   "execution_count": 20,
   "metadata": {},
   "outputs": [
    {
     "name": "stdout",
     "output_type": "stream",
     "text": [
      "Un asteroide se está acercando rapidamente a  54 km/s Cuidado!\n"
     ]
    }
   ],
   "source": [
    "import random;\n",
    "\n",
    "asteroidSpeed = random.randint(1,250) #k/s\n",
    "\n",
    "if(asteroidSpeed > 25):\n",
    "    print(\"Un asteroide se está acercando rapidamente a \" ,asteroidSpeed ,\"km/s Cuidado!\")\n",
    "else:\n",
    "    print(\"La Tierra está a salvo :), un asteroide viaja a \",asteroidSpeed ,\"k/s\")"
   ]
  },
  {
   "cell_type": "markdown",
   "metadata": {},
   "source": [
    "Si un asteroide entra en la atmósfera de la Tierra a una velocidad mayor o igual a 20 km/s, a veces produce un rayo de luz que se puede ver desde la Tierra. Escribe la lógica condicional que usa declaraciones if, else, y elif para alertar a las personas de todo el mundo que deben buscar un asteroide en el cielo. ¡Hay uno que se dirige a la tierra ahora a una velocidad de 19 km/s!"
   ]
  },
  {
   "cell_type": "markdown",
   "metadata": {},
   "source": [
    "v.1.0"
   ]
  },
  {
   "cell_type": "code",
   "execution_count": 22,
   "metadata": {},
   "outputs": [
    {
     "name": "stdout",
     "output_type": "stream",
     "text": [
      "No se puede ver el rayo de luz, porque el asteroide viaja a  19 k/s\n"
     ]
    }
   ],
   "source": [
    "# Agrega el código para crear una variable para un asteroide que viaja a 19 km/s\n",
    "# Escribe varias expresiones de prueba para determinar si puedes ver el rayo de luz desde la tierra\n",
    "# Agrega las instrucciones que se ejecutarán si las expresiones de prueba son True o False\n",
    "asteroidSpeed = 19 #k/s\n",
    "\n",
    "if(asteroidSpeed >= 20):\n",
    "    print(\"Puedes ver el rayo de luz viajando a \", asteroidSpeed, \"k/s por la atmósfera\")\n",
    "else:\n",
    "    print(\"No se puede ver el rayo de luz, porque el asteroide viaja a \", asteroidSpeed, \"k/s por la atmósfera\")"
   ]
  },
  {
   "cell_type": "markdown",
   "metadata": {},
   "source": [
    "v.1.1"
   ]
  },
  {
   "cell_type": "code",
   "execution_count": 27,
   "metadata": {},
   "outputs": [
    {
     "name": "stdout",
     "output_type": "stream",
     "text": [
      "Puedes ver el rayo de luz viajando a  112 k/s\n"
     ]
    }
   ],
   "source": [
    "import random;\n",
    "\n",
    "asteroidSpeed = random.randint(1,250) \n",
    "\n",
    "if(asteroidSpeed >= 20):\n",
    "    print(\"Puedes ver el rayo de luz viajando a \", asteroidSpeed, \"k/s por la atmósfera\")\n",
    "else:\n",
    "    print(\"No se puede ver el rayo de luz, porque el asteroide viaja a \", asteroidSpeed, \"k/s por la atmósfera\")"
   ]
  },
  {
   "cell_type": "markdown",
   "metadata": {},
   "source": [
    "v1.2"
   ]
  },
  {
   "cell_type": "code",
   "execution_count": 1,
   "metadata": {},
   "outputs": [
    {
     "name": "stdout",
     "output_type": "stream",
     "text": [
      "Puedes ver el rayo de luz viajando a  133 k/s por la atmósfera\n"
     ]
    }
   ],
   "source": [
    "import random;\n",
    "\n",
    "def view(asteroidS):\n",
    "    if(asteroidS >= 20):\n",
    "        print(\"Puedes ver el rayo de luz viajando a \", asteroidSpeed, \"k/s por la atmósfera\")\n",
    "    else:\n",
    "        print(\"No se puede ver el rayo de luz, porque el asteroide viaja a \", asteroidSpeed, \"k/s por la atmósfera\")\n",
    "\n",
    "asteroidSpeed = random.randint(1,250) \n",
    "view(asteroidSpeed)"
   ]
  },
  {
   "cell_type": "markdown",
   "metadata": {},
   "source": [
    "*Los asteroides de menos de 25 metros en su dimensión más grande probablemente se quemarán a medida que entren en la atmósfera de la Tierra.\n",
    "\n",
    "Si una pieza de un asteroide que es más grande que 25 metros pero más pequeña que 1000 metros golpeara la Tierra, causaría mucho daño."
   ]
  },
  {
   "cell_type": "markdown",
   "metadata": {},
   "source": [
    "La velocidad del asteroide varía en función de lo cerca que esté del sol, y cualquier velocidad superior a 25 kilómetros por segundo (km/s) merece una advertencia.\n",
    "Si un asteroide entra en la atmósfera de la Tierra a una velocidad mayor o igual a 20 km/s, a veces produce un rayo de luz que se puede ver desde la Tierra."
   ]
  },
  {
   "cell_type": "code",
   "execution_count": 2,
   "metadata": {},
   "outputs": [
    {
     "name": "stdout",
     "output_type": "stream",
     "text": [
      "Cuidado, un asteroide de  353 m se está acercando a la Tierra a  488 k/s!! Toma tus precauciones!\n"
     ]
    }
   ],
   "source": [
    "# Agrega el código para crear nuevas variables para la velocidad y el tamaño del asteroide\n",
    "# Para probar el código, prueba con varias velocidades y tamaños\n",
    "# Escribe varias expresiones de prueba o combinaciones de expresiones de prueba para determinar qué mensaje se debe enviar a Tierra.\n",
    "\n",
    "import random;\n",
    "\n",
    "asteroidSpeed = random.randint(1,1000) #k/s\n",
    "asteroidSize = random.randint(1,1000) #m\n",
    "\n",
    "if(asteroidSize > 25 and asteroidSize <=1000 and asteroidSpeed>=25):\n",
    "    print(\"Cuidado, un asteroide de \", asteroidSize,\"m se está acercando a la Tierra a \", asteroidSpeed, \"k/s!! Toma tus precauciones!\")\n",
    "elif(asteroidSpeed<25 and asteroidSpeed>=20 and asteroidSize<25):\n",
    "    print(\"Hay un asteroide acercándose a \", asteroidSpeed, \"k/s de \", asteroidSize,\"m y puede verse un rayo de luz\")\n",
    "elif(asteroidSpeed>25 or asteroidSize>25 and asteroidSize <=1000):\n",
    "    print(\"Hay un asteroide acercándose a \", asteroidSpeed, \"k/s de \", asteroidSize,\"m, Cuidado!!\")\n",
    "else:\n",
    "    print(\"Todo Tranquilo! el asteroide es de \", asteroidSize, \"m y va a \", asteroidSpeed,\"k/s\")\n"
   ]
  },
  {
   "cell_type": "markdown",
   "metadata": {},
   "source": [
    "v1.2"
   ]
  },
  {
   "cell_type": "code",
   "execution_count": 3,
   "metadata": {},
   "outputs": [
    {
     "name": "stdout",
     "output_type": "stream",
     "text": [
      "Cuidado, un asteroide de  298 m se está acercando a la Tierra a  226 k/s!! Toma tus precauciones!\n"
     ]
    }
   ],
   "source": [
    "import random;\n",
    "\n",
    "def alert(asteroidSpeed, asteroidSize):\n",
    "    if(asteroidSize > 25 and asteroidSize <=1000 and asteroidSpeed>=25):\n",
    "        print(\"Cuidado, un asteroide de \", asteroidSize,\"m se está acercando a la Tierra a \", asteroidSpeed, \"k/s!! Toma tus precauciones!\")\n",
    "    elif(asteroidSpeed<25 and asteroidSpeed>=20 and asteroidSize<25):\n",
    "        print(\"Hay un asteroide acercándose a \", asteroidSpeed, \"k/s de \", asteroidSize,\"m y puede verse un rayo de luz\")\n",
    "    elif(asteroidSpeed>25 or asteroidSize>25 and asteroidSize <=1000):\n",
    "        print(\"Hay un asteroide acercándose a \", asteroidSpeed, \"k/s de \", asteroidSize,\"m, Cuidado!!\")\n",
    "    else:\n",
    "        print(\"Todo Tranquilo! el asteroide es de \", asteroidSize, \"m y va a \", asteroidSpeed,\"k/s\")\n",
    "\n",
    "asteroidSpeed = random.randint(1,1000) #k/s\n",
    "asteroidSize = random.randint(1,1000) #m\n",
    "alert(asteroidSpeed, asteroidSize)"
   ]
  }
 ],
 "metadata": {
  "interpreter": {
   "hash": "aee8b7b246df8f9039afb4144a1f6fd8d2ca17a180786b69acc140d282b71a49"
  },
  "kernelspec": {
   "display_name": "Python 3.9.9 64-bit",
   "language": "python",
   "name": "python3"
  },
  "language_info": {
   "codemirror_mode": {
    "name": "ipython",
    "version": 3
   },
   "file_extension": ".py",
   "mimetype": "text/x-python",
   "name": "python",
   "nbconvert_exporter": "python",
   "pygments_lexer": "ipython3",
   "version": "3.9.9"
  },
  "orig_nbformat": 4
 },
 "nbformat": 4,
 "nbformat_minor": 2
}
