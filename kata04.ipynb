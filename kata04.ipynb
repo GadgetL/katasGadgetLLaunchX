{
 "cells": [
  {
   "cell_type": "markdown",
   "metadata": {},
   "source": [
    "## Kata 04\n",
    "\n"
   ]
  },
  {
   "cell_type": "code",
   "execution_count": 50,
   "metadata": {},
   "outputs": [
    {
     "name": "stdout",
     "output_type": "stream",
     "text": [
      "Interesting facts about the Moon. \n",
      "The Moon is Earth's only satellite. \n",
      "There are several interesting facts about the Moon and how it affects life here on Earth.\n",
      "On average, the Moon moves 4cm away from the Earth every year.\n",
      "This yearly drift is not significant enough to cause immediate effects on Earth.\n",
      "The highest daylight temperature of the Moon is 127 C.\n"
     ]
    }
   ],
   "source": [
    "text = \"\"\"Interesting facts about the Moon. \n",
    "... The Moon is Earth's only satellite. \n",
    "... There are several interesting facts about the Moon and how it affects life here on Earth.\n",
    "... On average, the Moon moves 4cm away from the Earth every year.\n",
    "... This yearly drift is not significant enough to cause immediate effects on Earth.\n",
    "... The highest daylight temperature of the Moon is 127 C.\"\"\"\n",
    " \n",
    "print(text)"
   ]
  },
  {
   "cell_type": "markdown",
   "metadata": {},
   "source": [
    "Hay varias operaciones que puedes realizar en las cadenas cuando las manipulamos. En este ejercicio, usarás métodos de cadena para modificar el texto con hechos sobre la Luna y luego extraerás información para crear un breve resumen."
   ]
  },
  {
   "cell_type": "code",
   "execution_count": 51,
   "metadata": {},
   "outputs": [
    {
     "data": {
      "text/plain": [
       "\"Interesting facts about the Moon. \\nThe Moon is Earth's only satellite. \\nThere are several interesting facts about the Moon and how it affects life here on Earth.\\nOn average, the Moon moves 4cm away from the Earth every year.\\nOrbiting Earth at an average distance of 384,400 km (238,900 mi)\\nThe highest daylight temperature of the Moon is 127 C.\""
      ]
     },
     "execution_count": 51,
     "metadata": {},
     "output_type": "execute_result"
    }
   ],
   "source": [
    "text.replace('This yearly drift is not significant enough to cause immediate effects on Earth.','Orbiting Earth at an average distance of 384,400 km (238,900 mi)')"
   ]
  },
  {
   "cell_type": "code",
   "execution_count": 52,
   "metadata": {},
   "outputs": [],
   "source": [
    "average = text.lower().find('average')\n",
    "orbiting = text.lower().find('earth')\n",
    "temperature = text.lower().find('temperature')"
   ]
  },
  {
   "cell_type": "code",
   "execution_count": 62,
   "metadata": {},
   "outputs": [
    {
     "name": "stdout",
     "output_type": "stream",
     "text": [
      "The Moon moves 4cm away from the Earth every year\n",
      "\n",
      "Orbiting Earth at an average distance of 384,400 km (238,900 mi)\n",
      "\n",
      "The highest daylight temperature of the Moon is 127 Cº\n"
     ]
    }
   ],
   "source": [
    "textLower = text.lower().split()\n",
    "for item in textLower:\n",
    "    if item.startswith('average'):\n",
    "        print('The Moon moves 4cm away from the Earth every year')\n",
    "    elif item.endswith('earth'):\n",
    "        print('\\nOrbiting Earth at an average distance of 384,400 km (238,900 mi)')\n",
    "    elif item.isnumeric():\n",
    "        print('\\nThe highest daylight temperature of the Moon is 127 Cº')"
   ]
  }
 ],
 "metadata": {
  "interpreter": {
   "hash": "aee8b7b246df8f9039afb4144a1f6fd8d2ca17a180786b69acc140d282b71a49"
  },
  "kernelspec": {
   "display_name": "Python 3.9.9 64-bit",
   "language": "python",
   "name": "python3"
  },
  "language_info": {
   "codemirror_mode": {
    "name": "ipython",
    "version": 3
   },
   "file_extension": ".py",
   "mimetype": "text/x-python",
   "name": "python",
   "nbconvert_exporter": "python",
   "pygments_lexer": "ipython3",
   "version": "3.9.9"
  },
  "orig_nbformat": 4
 },
 "nbformat": 4,
 "nbformat_minor": 2
}
