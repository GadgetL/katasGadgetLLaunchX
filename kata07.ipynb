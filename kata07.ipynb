{
 "cells": [
  {
   "cell_type": "markdown",
   "metadata": {},
   "source": [
    "## Kata 07\n",
    "Aplicación que solicita a un usuario que ingrese una lista de planetas"
   ]
  },
  {
   "cell_type": "code",
   "execution_count": 1,
   "metadata": {},
   "outputs": [],
   "source": [
    "planet_user = input('Ingresa el nombre de un planeta, iniciando con una mayúscula')"
   ]
  },
  {
   "cell_type": "markdown",
   "metadata": {},
   "source": [
    "Agregarás código que muestre la lista"
   ]
  },
  {
   "cell_type": "code",
   "execution_count": 2,
   "metadata": {},
   "outputs": [],
   "source": [
    "planets = []\n",
    "planets.append(planet_user)\n",
    "#print(planets)"
   ]
  },
  {
   "cell_type": "markdown",
   "metadata": {},
   "source": [
    "El ciclo while se ejecutará mientras el new_planet no sea igual a la palabra 'done'.\n",
    "Dentro del ciclo, comprobarás si la variable new_planet contiene un valor. \n",
    "Tu código agregará (append) ese valor a la variable planets."
   ]
  },
  {
   "cell_type": "code",
   "execution_count": 3,
   "metadata": {},
   "outputs": [],
   "source": [
    "\n",
    "def list_planets(planet_user):\n",
    "    while planet_user != 'done':\n",
    "        planet_user = input(\"Ingresa el nombre de otro planeta, o escribe 'done' si haz finalizado\")\n",
    "        if(len(planet_user)>0):\n",
    "            planets.append(planet_user)\n",
    "\n",
    "    print(planets)"
   ]
  },
  {
   "cell_type": "markdown",
   "metadata": {},
   "source": [
    "Finalmente, usarás input para solicitar al usuario que ingrese un nuevo nombre de planeta o que escriba done si ha terminado de ingresar nombres de planeta."
   ]
  },
  {
   "cell_type": "code",
   "execution_count": 4,
   "metadata": {},
   "outputs": [
    {
     "name": "stdout",
     "output_type": "stream",
     "text": [
      "['Tierra', 'Mercurio', 'Venus', 'done']\n"
     ]
    }
   ],
   "source": [
    "list_planets(planet_user)\n"
   ]
  },
  {
   "cell_type": "markdown",
   "metadata": {},
   "source": [
    "Completarás la aplicación escribiendo código que muestre los nombres de esos planetas. Ahora usarás un ciclo para mostrar esas entradas."
   ]
  },
  {
   "cell_type": "code",
   "execution_count": 5,
   "metadata": {},
   "outputs": [
    {
     "name": "stdout",
     "output_type": "stream",
     "text": [
      "Los planetas que ingresaste son:\n",
      "-  Tierra\n",
      "-  Mercurio\n",
      "-  Venus\n",
      "-  done\n"
     ]
    }
   ],
   "source": [
    "print('Los planetas que ingresaste son:')\n",
    "for planet in planets:\n",
    "    print('- ',planet)"
   ]
  }
 ],
 "metadata": {
  "interpreter": {
   "hash": "aee8b7b246df8f9039afb4144a1f6fd8d2ca17a180786b69acc140d282b71a49"
  },
  "kernelspec": {
   "display_name": "Python 3.9.9 64-bit",
   "language": "python",
   "name": "python3"
  },
  "language_info": {
   "codemirror_mode": {
    "name": "ipython",
    "version": 3
   },
   "file_extension": ".py",
   "mimetype": "text/x-python",
   "name": "python",
   "nbconvert_exporter": "python",
   "pygments_lexer": "ipython3",
   "version": "3.9.9"
  },
  "orig_nbformat": 4
 },
 "nbformat": 4,
 "nbformat_minor": 2
}
