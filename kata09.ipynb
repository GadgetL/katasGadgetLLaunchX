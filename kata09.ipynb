{
 "cells": [
  {
   "cell_type": "markdown",
   "metadata": {},
   "source": [
    "## Kata 09\n",
    "\n",
    "Construirás un informe de combustible que requiere información de varias ubicaciones de combustible en todo el cohete."
   ]
  },
  {
   "cell_type": "code",
   "execution_count": 19,
   "metadata": {},
   "outputs": [
    {
     "name": "stdout",
     "output_type": "stream",
     "text": [
      "La nave tiene 114 litros de combustible\n"
     ]
    }
   ],
   "source": [
    "def informe_combustible(*args):\n",
    "    combustible = 0\n",
    "    for arg in args:\n",
    "        combustible = combustible + arg\n",
    "    return combustible\n",
    "\n",
    "total_combustible = informe_combustible(2,45,67)\n",
    "print('La nave tiene',total_combustible, 'litros de combustible')"
   ]
  },
  {
   "cell_type": "markdown",
   "metadata": {},
   "source": [
    "En lugar de simplemente crear el informe, la función también está calculando el promedio. "
   ]
  },
  {
   "cell_type": "code",
   "execution_count": 20,
   "metadata": {},
   "outputs": [],
   "source": [
    "def promedio_combustible(combustible, tanques):\n",
    "    return combustible/tanques;"
   ]
  },
  {
   "cell_type": "markdown",
   "metadata": {},
   "source": [
    "Ahora actualiza la función de informes llamando a la nueva función del promedio"
   ]
  },
  {
   "cell_type": "code",
   "execution_count": 21,
   "metadata": {},
   "outputs": [
    {
     "name": "stdout",
     "output_type": "stream",
     "text": [
      "('La nave tiene', 135, 'litros de combustible, en promedio son:', 33.75, 'litros por tanque')\n"
     ]
    }
   ],
   "source": [
    "def informe_combustible(*args):\n",
    "    combustible = 0\n",
    "    for arg in args:\n",
    "        combustible = combustible + arg\n",
    "    \n",
    "    promedio = promedio_combustible(combustible, len(args))\n",
    "    return 'La nave tiene', combustible,'litros de combustible, en promedio son:', promedio, 'litros por tanque'\n",
    "\n",
    "print(informe_combustible(23,45,0,67))"
   ]
  },
  {
   "cell_type": "markdown",
   "metadata": {},
   "source": [
    "Construirás un informe de cohete que requiere varias piezas de información, como el tiempo hasta el destino, el combustible a la izquierda y el nombre del destino"
   ]
  },
  {
   "cell_type": "code",
   "execution_count": 22,
   "metadata": {},
   "outputs": [
    {
     "name": "stdout",
     "output_type": "stream",
     "text": [
      "\n",
      "            Lanzamiento a las 12.34 horas, tiempo de vuelo de 247.34 minutos\n",
      "            Destino: Marte; viajan con 817 litros de combustible\n"
     ]
    }
   ],
   "source": [
    "# Función con un informe preciso de la misión. Considera hora de prelanzamiento, tiempo de vuelo, destino, tanque externo y tanque interno\n",
    "\n",
    "def informe(hora_prelanzamiento, tiempo_vuelo, destino, tanque_externo, tanque_interno):\n",
    "    return f\"\"\"\n",
    "            Lanzamiento a las {hora_prelanzamiento} horas, tiempo de vuelo de {hora_prelanzamiento + tiempo_vuelo} minutos\n",
    "            Destino: {destino}; viajan con {tanque_externo + tanque_interno} litros de combustible\"\"\"\n",
    "\n",
    "print(informe(12,235, \"Marte\", 340, 477))"
   ]
  },
  {
   "cell_type": "code",
   "execution_count": 25,
   "metadata": {},
   "outputs": [
    {
     "name": "stdout",
     "output_type": "stream",
     "text": [
      "\n",
      "            Destino: Marte; viajan con 3252 litros de combustible\n",
      "            Tiempo de vuelo de 247 minutos\n"
     ]
    }
   ],
   "source": [
    "\n",
    "def informeCompleto(destino, *tiempo, **tanque):\n",
    "    reporte = f\"\"\"\n",
    "            Destino: {destino}; viajan con {sum(tanque.values())} litros de combustible\n",
    "            Tiempo de vuelo de {sum(tiempo)} minutos\"\"\"\n",
    "    return reporte\n",
    "\n",
    "print(informeCompleto( \"Marte\", 12,235, tanque1 = 340, tanque2 = 477, tanque3 = 2435))"
   ]
  }
 ],
 "metadata": {
  "interpreter": {
   "hash": "aee8b7b246df8f9039afb4144a1f6fd8d2ca17a180786b69acc140d282b71a49"
  },
  "kernelspec": {
   "display_name": "Python 3.9.9 64-bit",
   "language": "python",
   "name": "python3"
  },
  "language_info": {
   "codemirror_mode": {
    "name": "ipython",
    "version": 3
   },
   "file_extension": ".py",
   "mimetype": "text/x-python",
   "name": "python",
   "nbconvert_exporter": "python",
   "pygments_lexer": "ipython3",
   "version": "3.9.9"
  },
  "orig_nbformat": 4
 },
 "nbformat": 4,
 "nbformat_minor": 2
}
